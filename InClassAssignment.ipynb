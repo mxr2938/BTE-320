{
  "nbformat": 4,
  "nbformat_minor": 0,
  "metadata": {
    "colab": {
      "provenance": [],
      "authorship_tag": "ABX9TyN9h+EefkdNCcLGeGTACfWM",
      "include_colab_link": true
    },
    "kernelspec": {
      "name": "python3",
      "display_name": "Python 3"
    },
    "language_info": {
      "name": "python"
    }
  },
  "cells": [
    {
      "cell_type": "markdown",
      "metadata": {
        "id": "view-in-github",
        "colab_type": "text"
      },
      "source": [
        "<a href=\"https://colab.research.google.com/github/mxr2938/BTE-320/blob/main/InClassAssignment.ipynb\" target=\"_parent\"><img src=\"https://colab.research.google.com/assets/colab-badge.svg\" alt=\"Open In Colab\"/></a>"
      ]
    },
    {
      "cell_type": "code",
      "execution_count": null,
      "metadata": {
        "colab": {
          "base_uri": "https://localhost:8080/"
        },
        "id": "VVPxHG-GaPkk",
        "outputId": "b4ffe792-a746-4d40-af14-c48b8f4e79d9"
      },
      "outputs": [
        {
          "output_type": "stream",
          "name": "stdout",
          "text": [
            "Enter Sales($):12000\n",
            "Enter Tax Rate(%):30\n",
            "Sales: $12000.0\n",
            "Cost of Goods sold: $4800.0\n",
            "Gross profit: $7200.0\n",
            "Taxes: $2160.0\n",
            "Net Income: $5040.0\n"
          ]
        }
      ],
      "source": [
        "sales = float(input(\"Enter Sales($):\"))\n",
        "tax_rate = float(input('Enter Tax Rate(%):'))\n",
        "print(f'Sales: ${sales}')\n",
        "\n",
        "# Cost of goods sold\n",
        "cog = 0.4\n",
        "cog_sold = sales * cog\n",
        "print(f'Cost of Goods sold: ${cog_sold}')\n",
        "\n",
        "#Gross Profit\n",
        "gross_profit = sales - (cog * sales)\n",
        "print(f'Gross profit: ${gross_profit}')\n",
        "\n",
        "#Taxes\n",
        "taxes = (tax_rate / 100 * gross_profit)\n",
        "print(f'Taxes: ${taxes}')\n",
        "\n",
        "# Net Income\n",
        "net_income = gross_profit - taxes\n",
        "print(f'Net Income: ${net_income}')\n",
        "\n"
      ]
    },
    {
      "cell_type": "code",
      "source": [
        "# Demand, Reorder, Holding\n",
        "annual_demand = int(input( \"Enter Annual Demand(units/year):\"))\n",
        "reorder_cost = float(input(\"Enter Reorder Cost($/unit):\"))\n",
        "holding_cost = float(input(\"Eter Holding Cost($/unit/year):\"))\n",
        "\n",
        "#Process: Calculate EOQ\n",
        "EOQ = (2 * annual_demand * reorder_cost / holding_cost) ** 0.5\n",
        "\n",
        "# Output: Display EOQ value\n",
        "print(f'Economic Order Quantity:{EOQ} Units')"
      ],
      "metadata": {
        "colab": {
          "base_uri": "https://localhost:8080/"
        },
        "id": "xn4nYrwAm8oP",
        "outputId": "5a53969a-d78b-4e18-da69-e4a322aa12dd"
      },
      "execution_count": 6,
      "outputs": [
        {
          "output_type": "stream",
          "name": "stdout",
          "text": [
            "Enter Annual Demand(units/year):100\n",
            "Enter Reorder Cost($/unit):1.5\n",
            "Eter Holding Cost($/unit/year):3\n",
            "Economic Order Quantity:10.0 Units\n"
          ]
        }
      ]
    }
  ]
}