{
  "nbformat": 4,
  "nbformat_minor": 0,
  "metadata": {
    "colab": {
      "provenance": [],
      "authorship_tag": "ABX9TyMoIOMez0xnQa/WwL9t4bbL",
      "include_colab_link": true
    },
    "kernelspec": {
      "name": "python3",
      "display_name": "Python 3"
    },
    "language_info": {
      "name": "python"
    }
  },
  "cells": [
    {
      "cell_type": "markdown",
      "metadata": {
        "id": "view-in-github",
        "colab_type": "text"
      },
      "source": [
        "<a href=\"https://colab.research.google.com/github/mxr2938/BTE-320/blob/main/InClassAssignment.ipynb\" target=\"_parent\"><img src=\"https://colab.research.google.com/assets/colab-badge.svg\" alt=\"Open In Colab\"/></a>"
      ]
    },
    {
      "cell_type": "code",
      "execution_count": null,
      "metadata": {
        "colab": {
          "base_uri": "https://localhost:8080/"
        },
        "id": "VVPxHG-GaPkk",
        "outputId": "b4ffe792-a746-4d40-af14-c48b8f4e79d9"
      },
      "outputs": [
        {
          "output_type": "stream",
          "name": "stdout",
          "text": [
            "Enter Sales($):12000\n",
            "Enter Tax Rate(%):30\n",
            "Sales: $12000.0\n",
            "Cost of Goods sold: $4800.0\n",
            "Gross profit: $7200.0\n",
            "Taxes: $2160.0\n",
            "Net Income: $5040.0\n"
          ]
        }
      ],
      "source": [
        "sales = float(input(\"Enter Sales($):\"))\n",
        "tax_rate = float(input('Enter Tax Rate(%):'))\n",
        "print(f'Sales: ${sales}')\n",
        "\n",
        "# Cost of goods sold\n",
        "cog = 0.4\n",
        "cog_sold = sales * cog\n",
        "print(f'Cost of Goods sold: ${cog_sold}')\n",
        "\n",
        "#Gross Profit\n",
        "gross_profit = sales - (cog * sales)\n",
        "print(f'Gross profit: ${gross_profit}')\n",
        "\n",
        "#Taxes\n",
        "taxes = (tax_rate / 100 * gross_profit)\n",
        "print(f'Taxes: ${taxes}')\n",
        "\n",
        "# Net Income\n",
        "net_income = gross_profit - taxes\n",
        "print(f'Net Income: ${net_income}')\n",
        "\n"
      ]
    },
    {
      "cell_type": "code",
      "source": [
        "# Demand, Reorder, Holding\n",
        "annual_demand = int(input( \"Enter Annual Demand(units/year):\"))\n",
        "reorder_cost = float(input(\"Enter Reorder Cost($/unit):\"))\n",
        "holding_cost = float(input(\"Eter Holding Cost($/unit/year):\"))\n",
        "\n",
        "#Process: Calculate EOQ\n",
        "EOQ = (2 * annual_demand * reorder_cost / holding_cost) ** 0.5\n",
        "\n",
        "# Output: Display EOQ value\n",
        "print(f'Economic Order Quantity:{EOQ} Units')"
      ],
      "metadata": {
        "colab": {
          "base_uri": "https://localhost:8080/"
        },
        "id": "xn4nYrwAm8oP",
        "outputId": "5a53969a-d78b-4e18-da69-e4a322aa12dd"
      },
      "execution_count": null,
      "outputs": [
        {
          "output_type": "stream",
          "name": "stdout",
          "text": [
            "Enter Annual Demand(units/year):100\n",
            "Enter Reorder Cost($/unit):1.5\n",
            "Eter Holding Cost($/unit/year):3\n",
            "Economic Order Quantity:10.0 Units\n"
          ]
        }
      ]
    },
    {
      "cell_type": "code",
      "source": [
        "grade = 90\n",
        "if grade >= 90:\n",
        "    print('A')\n",
        "elif grade > 85:\n",
        "    print('A-')\n",
        "else:\n",
        "    print('B')\n",
        "\n"
      ],
      "metadata": {
        "colab": {
          "base_uri": "https://localhost:8080/"
        },
        "id": "YGsJqFZNyq0Y",
        "outputId": "6b161633-e4cc-4563-91ac-5558dec9e3e6"
      },
      "execution_count": null,
      "outputs": [
        {
          "output_type": "stream",
          "name": "stdout",
          "text": [
            "A\n"
          ]
        }
      ]
    },
    {
      "cell_type": "code",
      "source": [
        "for ad in range(0,201,25):\n",
        "  Revenue = 10 * (20 + 2 * ad ** 0.5) - 200 - ad\n",
        "  print(ad, round(Revenue, 1))\n"
      ],
      "metadata": {
        "colab": {
          "base_uri": "https://localhost:8080/"
        },
        "id": "9477zZcRvHNR",
        "outputId": "4c5d9bb0-a0e4-4ac4-b0ac-fa42f378cbdc"
      },
      "execution_count": null,
      "outputs": [
        {
          "output_type": "stream",
          "name": "stdout",
          "text": [
            "0 0.0\n",
            "25 75.0\n",
            "50 91.4\n",
            "75 98.2\n",
            "100 100.0\n",
            "125 98.6\n",
            "150 94.9\n",
            "175 89.6\n",
            "200 82.8\n"
          ]
        }
      ]
    },
    {
      "cell_type": "code",
      "source": [
        "for i in range(10000000000):\n",
        "  if i ==3:\n",
        "    break\n",
        "  print(i)\n"
      ],
      "metadata": {
        "id": "IwVOqB2Zygnx",
        "colab": {
          "base_uri": "https://localhost:8080/"
        },
        "outputId": "b3559a54-5722-4739-c2f2-ef1e47181d1b"
      },
      "execution_count": null,
      "outputs": [
        {
          "output_type": "stream",
          "name": "stdout",
          "text": [
            "0\n",
            "1\n",
            "2\n"
          ]
        }
      ]
    },
    {
      "cell_type": "code",
      "source": [
        "products = {\n",
        "    'P-01' : 9.95,\n",
        "    'P-02' : 10.5\n",
        "}\n",
        "\n",
        "id= input('Enter Product ID:')\n",
        "\n",
        "if id in products:\n",
        "  print(f'Product ID: {id}, Price: {products[id]}$')\n",
        "else:\n",
        "  print(f'Product ID {id} not found')"
      ],
      "metadata": {
        "colab": {
          "base_uri": "https://localhost:8080/"
        },
        "id": "XxpwAOGv956H",
        "outputId": "15f7e8a6-1955-43f8-f536-98da01d89e01"
      },
      "execution_count": 7,
      "outputs": [
        {
          "output_type": "stream",
          "name": "stdout",
          "text": [
            "Enter Product ID:P-01\n",
            "Product ID: P-01, Price: 9.95$\n"
          ]
        }
      ]
    },
    {
      "cell_type": "code",
      "source": [
        "names = {}\n",
        "\n",
        "for i in range(5):\n",
        "  name = input('Enter a name:')\n",
        "\n",
        "  if name in names:\n",
        "    names[name] = names[name] + 1  # names[name] += 1\n",
        "  else:\n",
        "    names[name] = 1\n",
        "\n",
        "  print(names)"
      ],
      "metadata": {
        "colab": {
          "base_uri": "https://localhost:8080/",
          "height": 486
        },
        "id": "PD_kOU_sAEMh",
        "outputId": "7c5d0931-2625-4c5e-d19a-7570e16ac198"
      },
      "execution_count": 11,
      "outputs": [
        {
          "output_type": "stream",
          "name": "stdout",
          "text": [
            "Enter a name:bob\n",
            "{'bob': 1}\n",
            "Enter a name:alice\n",
            "{'bob': 1, 'alice': 1}\n",
            "Enter a name:eve\n",
            "{'bob': 1, 'alice': 1, 'eve': 1}\n",
            "Enter a name:bob\n",
            "{'bob': 2, 'alice': 1, 'eve': 1}\n"
          ]
        },
        {
          "output_type": "error",
          "ename": "KeyboardInterrupt",
          "evalue": "Interrupted by user",
          "traceback": [
            "\u001b[0;31m---------------------------------------------------------------------------\u001b[0m",
            "\u001b[0;31mKeyboardInterrupt\u001b[0m                         Traceback (most recent call last)",
            "\u001b[0;32m/tmp/ipython-input-301524882.py\u001b[0m in \u001b[0;36m<cell line: 0>\u001b[0;34m()\u001b[0m\n\u001b[1;32m      2\u001b[0m \u001b[0;34m\u001b[0m\u001b[0m\n\u001b[1;32m      3\u001b[0m \u001b[0;32mfor\u001b[0m \u001b[0mi\u001b[0m \u001b[0;32min\u001b[0m \u001b[0mrange\u001b[0m\u001b[0;34m(\u001b[0m\u001b[0;36m5\u001b[0m\u001b[0;34m)\u001b[0m\u001b[0;34m:\u001b[0m\u001b[0;34m\u001b[0m\u001b[0;34m\u001b[0m\u001b[0m\n\u001b[0;32m----> 4\u001b[0;31m   \u001b[0mname\u001b[0m \u001b[0;34m=\u001b[0m \u001b[0minput\u001b[0m\u001b[0;34m(\u001b[0m\u001b[0;34m'Enter a name:'\u001b[0m\u001b[0;34m)\u001b[0m\u001b[0;34m\u001b[0m\u001b[0;34m\u001b[0m\u001b[0m\n\u001b[0m\u001b[1;32m      5\u001b[0m \u001b[0;34m\u001b[0m\u001b[0m\n\u001b[1;32m      6\u001b[0m   \u001b[0;32mif\u001b[0m \u001b[0mname\u001b[0m \u001b[0;32min\u001b[0m \u001b[0mnames\u001b[0m\u001b[0;34m:\u001b[0m\u001b[0;34m\u001b[0m\u001b[0;34m\u001b[0m\u001b[0m\n",
            "\u001b[0;32m/usr/local/lib/python3.12/dist-packages/ipykernel/kernelbase.py\u001b[0m in \u001b[0;36mraw_input\u001b[0;34m(self, prompt)\u001b[0m\n\u001b[1;32m   1175\u001b[0m                 \u001b[0;34m\"raw_input was called, but this frontend does not support input requests.\"\u001b[0m\u001b[0;34m\u001b[0m\u001b[0;34m\u001b[0m\u001b[0m\n\u001b[1;32m   1176\u001b[0m             )\n\u001b[0;32m-> 1177\u001b[0;31m         return self._input_request(\n\u001b[0m\u001b[1;32m   1178\u001b[0m             \u001b[0mstr\u001b[0m\u001b[0;34m(\u001b[0m\u001b[0mprompt\u001b[0m\u001b[0;34m)\u001b[0m\u001b[0;34m,\u001b[0m\u001b[0;34m\u001b[0m\u001b[0;34m\u001b[0m\u001b[0m\n\u001b[1;32m   1179\u001b[0m             \u001b[0mself\u001b[0m\u001b[0;34m.\u001b[0m\u001b[0m_parent_ident\u001b[0m\u001b[0;34m[\u001b[0m\u001b[0;34m\"shell\"\u001b[0m\u001b[0;34m]\u001b[0m\u001b[0;34m,\u001b[0m\u001b[0;34m\u001b[0m\u001b[0;34m\u001b[0m\u001b[0m\n",
            "\u001b[0;32m/usr/local/lib/python3.12/dist-packages/ipykernel/kernelbase.py\u001b[0m in \u001b[0;36m_input_request\u001b[0;34m(self, prompt, ident, parent, password)\u001b[0m\n\u001b[1;32m   1217\u001b[0m             \u001b[0;32mexcept\u001b[0m \u001b[0mKeyboardInterrupt\u001b[0m\u001b[0;34m:\u001b[0m\u001b[0;34m\u001b[0m\u001b[0;34m\u001b[0m\u001b[0m\n\u001b[1;32m   1218\u001b[0m                 \u001b[0;31m# re-raise KeyboardInterrupt, to truncate traceback\u001b[0m\u001b[0;34m\u001b[0m\u001b[0;34m\u001b[0m\u001b[0m\n\u001b[0;32m-> 1219\u001b[0;31m                 \u001b[0;32mraise\u001b[0m \u001b[0mKeyboardInterrupt\u001b[0m\u001b[0;34m(\u001b[0m\u001b[0;34m\"Interrupted by user\"\u001b[0m\u001b[0;34m)\u001b[0m \u001b[0;32mfrom\u001b[0m \u001b[0;32mNone\u001b[0m\u001b[0;34m\u001b[0m\u001b[0;34m\u001b[0m\u001b[0m\n\u001b[0m\u001b[1;32m   1220\u001b[0m             \u001b[0;32mexcept\u001b[0m \u001b[0mException\u001b[0m\u001b[0;34m:\u001b[0m\u001b[0;34m\u001b[0m\u001b[0;34m\u001b[0m\u001b[0m\n\u001b[1;32m   1221\u001b[0m                 \u001b[0mself\u001b[0m\u001b[0;34m.\u001b[0m\u001b[0mlog\u001b[0m\u001b[0;34m.\u001b[0m\u001b[0mwarning\u001b[0m\u001b[0;34m(\u001b[0m\u001b[0;34m\"Invalid Message:\"\u001b[0m\u001b[0;34m,\u001b[0m \u001b[0mexc_info\u001b[0m\u001b[0;34m=\u001b[0m\u001b[0;32mTrue\u001b[0m\u001b[0;34m)\u001b[0m\u001b[0;34m\u001b[0m\u001b[0;34m\u001b[0m\u001b[0m\n",
            "\u001b[0;31mKeyboardInterrupt\u001b[0m: Interrupted by user"
          ]
        }
      ]
    }
  ]
}